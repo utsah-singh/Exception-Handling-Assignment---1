{
 "cells": [
  {
   "cell_type": "markdown",
   "id": "e52d796c-a5dd-4a7c-8d71-0f24c261f0a1",
   "metadata": {},
   "source": [
    "Answer = 1"
   ]
  },
  {
   "cell_type": "markdown",
   "id": "87d4ec81-a843-4943-97af-614949952a17",
   "metadata": {},
   "source": [
    "In Python, an Exception is an event that occurs during the execution of a program that disrupts the normal flow of instructions. When an exceptional situation arises, Python raises an Exception, which can then be caught and handled by the program. Exceptions can occur due to various reasons, such as invalid input, file not found, division by zero, etc."
   ]
  },
  {
   "cell_type": "markdown",
   "id": "532a306b-35cc-4751-8414-8110e8518fb9",
   "metadata": {},
   "source": [
    "Here's an example of how exceptions are used in Python:\n",
    "\n"
   ]
  },
  {
   "cell_type": "code",
   "execution_count": 1,
   "id": "fd7f4689-12c8-45c0-a135-48664a51fbad",
   "metadata": {},
   "outputs": [
    {
     "name": "stdout",
     "output_type": "stream",
     "text": [
      "Error: Division by zero!\n"
     ]
    }
   ],
   "source": [
    "try:\n",
    "    # code that may raise an exception\n",
    "    result = 10 / 0\n",
    "except ZeroDivisionError:\n",
    "    # handle the specific exception\n",
    "    print(\"Error: Division by zero!\")"
   ]
  },
  {
   "cell_type": "code",
   "execution_count": 3,
   "id": "db11c25e-b4b6-4591-9096-c914400ad31a",
   "metadata": {},
   "outputs": [
    {
     "name": "stdout",
     "output_type": "stream",
     "text": [
      "division by zero\n"
     ]
    }
   ],
   "source": [
    "try: \n",
    "    result = 10/ 0 \n",
    "except ZeroDivisionError as e:\n",
    "    print(e)"
   ]
  },
  {
   "cell_type": "markdown",
   "id": "4ef820e9-41c8-478f-a37c-a0d1516022b8",
   "metadata": {},
   "source": [
    "In this example, the code within the 'try' block attempts to perform a division operation that may raise a 'ZeroDivisionError' exception. If such an exception occurs, it is caught by the 'except' block, which then handles the exception appropriately."
   ]
  },
  {
   "cell_type": "markdown",
   "id": "a3be6fa1-31a9-4536-a2a8-2acf21a3a165",
   "metadata": {},
   "source": [
    "Now, let's differentiate between Exceptions and syntax errors:\n",
    "\n"
   ]
  },
  {
   "cell_type": "markdown",
   "id": "c0e1542a-4cd1-490e-8fdf-a28d259b082f",
   "metadata": {},
   "source": [
    " 1. Exceptions:"
   ]
  },
  {
   "cell_type": "markdown",
   "id": "6093ecbe-3a1a-4153-a471-9eeed0d2ffc5",
   "metadata": {},
   "source": [
    " * Exceptions occur during the execution of a program.\n",
    " * They are caused by factors such as invalid input, incorrect logic, or unexpected conditions.\n",
    " * Exceptions can be caught and handled using 'try' and 'except' blocks, allowing the program to gracefully recover from errors."
   ]
  },
  {
   "cell_type": "markdown",
   "id": "9c9aab20-42eb-4afd-bfd0-0ca69fb38d2b",
   "metadata": {},
   "source": [
    " 2. Syntax Errors:"
   ]
  },
  {
   "cell_type": "markdown",
   "id": "604d0884-47e6-4538-9774-ea4d7dc1ebb7",
   "metadata": {},
   "source": [
    "  \n",
    "* Syntax errors occur during the parsing of code, i.e., before the program actually runs.\n",
    "* They are caused by violations of the programming language's syntax rules\n",
    "* Syntax errors prevent the program from being executed until they are fixed. They are typically identified by the Python interpreter during the compilation phase.\n",
    "* Common examples of syntax errors include missing colons, incorrect indentation, or the misuse of keywords.\n",
    "\n",
    "Here's an example illustrating a syntax error:\n",
    "\n",
    "\n",
    " "
   ]
  },
  {
   "cell_type": "code",
   "execution_count": 4,
   "id": "977b06af-6172-4dc7-966e-e86bbc755d27",
   "metadata": {},
   "outputs": [
    {
     "ename": "SyntaxError",
     "evalue": "expected ':' (3777003300.py, line 2)",
     "output_type": "error",
     "traceback": [
      "\u001b[0;36m  Cell \u001b[0;32mIn[4], line 2\u001b[0;36m\u001b[0m\n\u001b[0;31m    if x == 5  # Missing colon\u001b[0m\n\u001b[0m               ^\u001b[0m\n\u001b[0;31mSyntaxError\u001b[0m\u001b[0;31m:\u001b[0m expected ':'\n"
     ]
    }
   ],
   "source": [
    "# This code contains a syntax error\n",
    "if x == 5  # Missing colon\n",
    "    print(\"x is 5\")"
   ]
  },
  {
   "cell_type": "markdown",
   "id": "45ad9fd0-fb54-4063-a860-4b16b3cfdc4b",
   "metadata": {},
   "source": [
    "Answer = 2"
   ]
  },
  {
   "cell_type": "markdown",
   "id": "7209289c-b7d9-4e93-a4aa-c6e583dfd7ed",
   "metadata": {},
   "source": [
    "When an exception is not handled, it typically leads to program termination or unexpected behavior. In most programming languages, an unhandled exception will cause the program to terminate abruptly, often displaying an error message or a stack trace to indicate the location and nature of the exception. This can disrupt the normal flow of the program and potentially cause data loss or corruption.\n",
    "\n",
    "Here's an example in Python:"
   ]
  },
  {
   "cell_type": "code",
   "execution_count": 3,
   "id": "28cbc7cb-744c-4987-a58b-4f96692c31cd",
   "metadata": {},
   "outputs": [
    {
     "ename": "ZeroDivisionError",
     "evalue": "division by zero",
     "output_type": "error",
     "traceback": [
      "\u001b[0;31m---------------------------------------------------------------------------\u001b[0m",
      "\u001b[0;31mZeroDivisionError\u001b[0m                         Traceback (most recent call last)",
      "Cell \u001b[0;32mIn[3], line 5\u001b[0m\n\u001b[1;32m      2\u001b[0m     \u001b[38;5;28;01mreturn\u001b[39;00m a \u001b[38;5;241m/\u001b[39m b\n\u001b[1;32m      4\u001b[0m \u001b[38;5;66;03m# This function will raise an exception if b is 0\u001b[39;00m\n\u001b[0;32m----> 5\u001b[0m result \u001b[38;5;241m=\u001b[39m \u001b[43mdivide_numbers\u001b[49m\u001b[43m(\u001b[49m\u001b[38;5;241;43m10\u001b[39;49m\u001b[43m,\u001b[49m\u001b[43m \u001b[49m\u001b[38;5;241;43m0\u001b[39;49m\u001b[43m)\u001b[49m\n\u001b[1;32m      7\u001b[0m \u001b[38;5;28mprint\u001b[39m(\u001b[38;5;124m\"\u001b[39m\u001b[38;5;124mResult:\u001b[39m\u001b[38;5;124m\"\u001b[39m, result)\n",
      "Cell \u001b[0;32mIn[3], line 2\u001b[0m, in \u001b[0;36mdivide_numbers\u001b[0;34m(a, b)\u001b[0m\n\u001b[1;32m      1\u001b[0m \u001b[38;5;28;01mdef\u001b[39;00m \u001b[38;5;21mdivide_numbers\u001b[39m(a, b):\n\u001b[0;32m----> 2\u001b[0m     \u001b[38;5;28;01mreturn\u001b[39;00m \u001b[43ma\u001b[49m\u001b[43m \u001b[49m\u001b[38;5;241;43m/\u001b[39;49m\u001b[43m \u001b[49m\u001b[43mb\u001b[49m\n",
      "\u001b[0;31mZeroDivisionError\u001b[0m: division by zero"
     ]
    }
   ],
   "source": [
    "def divide_numbers(a, b):\n",
    "    return a / b\n",
    "\n",
    "# This function will raise an exception if b is 0\n",
    "result = divide_numbers(10, 0)\n",
    "\n",
    "print(\"Result:\", result)"
   ]
  },
  {
   "cell_type": "markdown",
   "id": "65bd4b73-a93a-4d19-93a4-fa2c249828b6",
   "metadata": {},
   "source": [
    "In this example, if the function 'divide_numbers' is called with 'b' equal to 0, it will raise a 'ZeroDivisionError' because division by zero is not allowed. However, there's no try-except block to handle this exception. As a result, the program will terminate abruptly when the exception is raised.\n",
    "\n",
    "The output will be something like:\n",
    "\n"
   ]
  },
  {
   "cell_type": "code",
   "execution_count": 8,
   "id": "f8dc64ed-c269-4fa7-a5d2-c23bbbef12da",
   "metadata": {},
   "outputs": [
    {
     "ename": "SyntaxError",
     "evalue": "invalid syntax. Perhaps you forgot a comma? (1517561700.py, line 1)",
     "output_type": "error",
     "traceback": [
      "\u001b[0;36m  Cell \u001b[0;32mIn[8], line 1\u001b[0;36m\u001b[0m\n\u001b[0;31m    Traceback (most recent call last):\u001b[0m\n\u001b[0m               ^\u001b[0m\n\u001b[0;31mSyntaxError\u001b[0m\u001b[0;31m:\u001b[0m invalid syntax. Perhaps you forgot a comma?\n"
     ]
    }
   ],
   "source": [
    "Traceback (most recent call last):\n",
    "  File \"example.py\", line 5, in <module>\n",
    "    result = divide_numbers(10, 0)\n",
    "  File \"example.py\", line 2, in divide_numbers\n",
    "    return a / b\n",
    "ZeroDivisionError: division by zero"
   ]
  },
  {
   "cell_type": "markdown",
   "id": "497c25b3-8916-4baa-9ba3-0a1ec9c8f332",
   "metadata": {},
   "source": [
    "As you can see, the program crashes with a ZeroDivisionError and displays a traceback indicating the location of the error. If this exception were handled properly within a try-except block, the program could respond to the error gracefully without terminating unexpectedly.\n",
    "\n",
    "\n",
    "\n",
    "\n",
    "\n"
   ]
  },
  {
   "cell_type": "markdown",
   "id": "1875d0d9-bb64-445f-a3a1-19f83e2bb204",
   "metadata": {},
   "source": [
    "Answer = 3"
   ]
  },
  {
   "cell_type": "markdown",
   "id": "c252ef8d-d3a0-425e-8c44-be428117189c",
   "metadata": {},
   "source": [
    " In Python, the 'try' and 'except' statements are used to catch and handle exceptions. The 'try' block contains the code that might raise an exception, and the except block is used to handle the exception if it occurs.\n",
    " \n",
    " Here's an example demonstrating the usage of 'try' and 'except':"
   ]
  },
  {
   "cell_type": "code",
   "execution_count": 5,
   "id": "82b48ca4-127d-404f-a65b-44205c3f21e1",
   "metadata": {},
   "outputs": [
    {
     "name": "stdout",
     "output_type": "stream",
     "text": [
      "5.0\n",
      "Error: Division by zero is not allowed.\n",
      "None\n"
     ]
    }
   ],
   "source": [
    "def divide_numbers(a, b):\n",
    "    try:\n",
    "        result = a / b\n",
    "    except ZeroDivisionError:\n",
    "        print(\"Error: Division by zero is not allowed.\")\n",
    "        result = None\n",
    "    return result\n",
    "\n",
    "# Test cases\n",
    "print(divide_numbers(10, 2))   # Output: 5.0\n",
    "print(divide_numbers(10, 0))   # Output: Error: Division by zero is not allowed. None\n"
   ]
  },
  {
   "cell_type": "markdown",
   "id": "2114e3ad-5a85-45b5-ab70-8b4160f8716c",
   "metadata": {},
   "source": [
    "In this example:\n",
    "    \n",
    "1 * The 'divide_numbers' function attempts to divide 'a' by' b'.\n",
    "\n",
    "2 * Inside the 'try' block, the division operation is performed.\n",
    "\n",
    "3 * If the division operation raises a 'ZeroDivisionError', the execution jumps to the 'except' block.\n",
    "\n",
    "4 * In the 'except' block, a message is printed indicating the error, and the result is set to None.\n",
    "\n",
    "\n",
    "    "
   ]
  },
  {
   "cell_type": "markdown",
   "id": "0007a1e6-310d-4c99-bc86-887dd4aafd25",
   "metadata": {},
   "source": [
    "Answer = 4 "
   ]
  },
  {
   "cell_type": "markdown",
   "id": "7996f1cc-d866-4bcb-af0a-9cc997f5a799",
   "metadata": {},
   "source": [
    "A = try and else\n",
    "\n"
   ]
  },
  {
   "cell_type": "code",
   "execution_count": null,
   "id": "37752ee3-c9a4-4f58-b842-36141b2be697",
   "metadata": {},
   "outputs": [],
   "source": [
    "try:\n",
    "    # Code that may raise an exception\n",
    "    x = int(input(\"Enter a number: \"))\n",
    "    result = 10 / x\n",
    "    print(\"Result:\", result)\n",
    "except ZeroDivisionError:\n",
    "    print(\"Cannot divide by zero!\")\n",
    "else:\n",
    "    print(\"Division performed successfully.\")"
   ]
  },
  {
   "cell_type": "markdown",
   "id": "1401d1d9-8ede-4d6a-951c-a22927c60d71",
   "metadata": {},
   "source": [
    "Explanation:\n",
    "\n",
    "  \n",
    "* The 'try' block contains the code that might raise an exception. In this example, it attempts to perform a division operation\n",
    "\n",
    "* o exception occurs within the try block, the code inside the else block is executed. This indicates that the code within the try block executed successfully without any exceptions.\n",
    "\n",
    "* If an exception occurs within the try block, it is caught by the corresponding except block. In this example, ZeroDivisionError is caught if the user inputs 0 as the divisor."
   ]
  },
  {
   "cell_type": "markdown",
   "id": "db75fb02-7f54-44ab-a7b4-84da3a8e6963",
   "metadata": {},
   "source": [
    "B = Finally\n",
    "\n"
   ]
  },
  {
   "cell_type": "code",
   "execution_count": null,
   "id": "73e46dc3-61c0-44e1-afb0-775445c70458",
   "metadata": {},
   "outputs": [],
   "source": [
    "try:\n",
    "    x = int(input(\"Enter a number: \"))\n",
    "    result = 10 / x\n",
    "    print(\"Result:\", result)\n",
    "except ZeroDivisionError:\n",
    "    print(\"Cannot divide by zero!\")\n",
    "finally:\n",
    "    print(\"This block is always executed, regardless of any exceptions.\")"
   ]
  },
  {
   "cell_type": "markdown",
   "id": "19a051c8-2c67-408a-ab4e-e7f17ac1d876",
   "metadata": {},
   "source": [
    "Explanation:\n",
    "\n",
    "\n",
    "* The' try' block contains the code that may raise an exception. In this example, it attempts to perform a division operation.\n",
    "\n",
    "* If an exception occurs within the 'try' block (e.g., if the user inputs 0 as the divisor), it is caught by the corresponding 'except' block, and the appropriate message is printed.\n",
    "\n",
    "* Regardless of whether an exception occurs or not, the code within the 'finally' block is always executed. This block is used for tasks that must be performed regardless of exceptions, such as cleanup operations.\n",
    "\n",
    "* In this example, the 'finally' block simply prints a message indicating that it is always executed."
   ]
  },
  {
   "cell_type": "markdown",
   "id": "53d21c0e-5c78-4c32-be05-93cd1335a48d",
   "metadata": {},
   "source": [
    "C = Raise\n"
   ]
  },
  {
   "cell_type": "code",
   "execution_count": 1,
   "id": "4a59cbfb-fc28-4109-8c9d-027dd02bec59",
   "metadata": {},
   "outputs": [
    {
     "name": "stdout",
     "output_type": "stream",
     "text": [
      "Error: Cannot calculate square root of a negative number\n"
     ]
    }
   ],
   "source": [
    "def calculate_square_root(num):\n",
    "    if num < 0:\n",
    "        raise ValueError(\"Cannot calculate square root of a negative number\")\n",
    "    else:\n",
    "        return num ** 0.5\n",
    "\n",
    "try:\n",
    "    result = calculate_square_root(-9)\n",
    "    print(\"Square root:\", result)\n",
    "except ValueError as ve:\n",
    "    print(\"Error:\", ve)"
   ]
  },
  {
   "cell_type": "markdown",
   "id": "cdad8ecb-3a30-4c1b-8f30-c8aab8b0e34e",
   "metadata": {},
   "source": [
    "Explanation:\n",
    "\n",
    "* In this example, we have a function 'calculate_square_root(num)' that calculates the square root of a given number 'num'.\n",
    "\n",
    "* Before performing the square root calculation, the function checks if the input number is negative. If it's negative, the function raises a 'ValueError' with a custom error message indicating that the square root of a negative number cannot be calculated.\n",
    "\n",
    "* In the 'try' block, we call the 'calculate_square_root()' function with a negative number '-9'. Since the input is negative, it raises a 'ValueError'.\n",
    "\n",
    "* The except block catches the ValueError exception and prints the error message associated with it."
   ]
  },
  {
   "cell_type": "markdown",
   "id": "3aa81bc5-2f58-4873-a7e4-825c084373dd",
   "metadata": {},
   "source": [
    "Answer = 5"
   ]
  },
  {
   "cell_type": "markdown",
   "id": "a8c50cf8-5a3f-4da6-8a74-4f59d2aacc0e",
   "metadata": {},
   "source": [
    "Custom exceptions in Python are user-defined exceptions that extend the built-in Exception class or its subclasses. They allow developers to create their own types of exceptions tailored to specific scenarios or requirements within their code.\n",
    "\n",
    "We need custom exceptions for several reasons:\n",
    "\n",
    " 1 * Clarity and readability: Custom exceptions provide descriptive names that convey the nature of the error or exceptional condition, making the code more readable and understandable.\n",
    " \n",
    " 2 * Granular error handling: Custom exceptions allow developers to handle different types of errors separately, providing more granular control over exception handling and error recovery.\n",
    " \n",
    " 3 * Modularity and maintainability: By encapsulating error handling logic within custom exceptions, developers can promote modularity and maintainability in their codebase. Changes to error handling behavior can be localized to the custom exception classes.\n",
    " \n",
    " 4 * Enhanced debugging: Custom exceptions can include additional attributes or methods that aid in debugging and troubleshooting, providing valuable information about the context of the error.\n",
    " \n",
    " Here's an example demonstrating the creation and usage of a custom exception in Python:"
   ]
  },
  {
   "cell_type": "code",
   "execution_count": 2,
   "id": "8cadaf4d-fdff-44e4-8c0d-b45d82fea333",
   "metadata": {},
   "outputs": [
    {
     "name": "stdout",
     "output_type": "stream",
     "text": [
      "Withdrawal failed: Insufficient balance (100) for withdrawal of 150\n"
     ]
    }
   ],
   "source": [
    "class WithdrawalError(Exception):\n",
    "    def __init__(self, balance, amount):\n",
    "        self.balance = balance\n",
    "        self.amount = amount\n",
    "        super().__init__(f\"Insufficient balance ({balance}) for withdrawal of {amount}\")\n",
    "\n",
    "class Account:\n",
    "    def __init__(self, balance):\n",
    "        self.balance = balance\n",
    "\n",
    "    def withdraw(self, amount):\n",
    "        if amount > self.balance:\n",
    "            raise WithdrawalError(self.balance, amount)\n",
    "        self.balance -= amount\n",
    "        return self.balance\n",
    "\n",
    "# Example usage\n",
    "try:\n",
    "    account = Account(100)\n",
    "    withdrawn_amount = account.withdraw(150)\n",
    "    print(\"Withdrawn amount:\", withdrawn_amount)\n",
    "except WithdrawalError as e:\n",
    "    print(\"Withdrawal failed:\", e)\n"
   ]
  },
  {
   "cell_type": "markdown",
   "id": "b0eae9ad-e4d8-493b-aa80-8642803ab149",
   "metadata": {},
   "source": [
    "In this example:\n",
    "\n",
    "* We define a custom exception 'WithdrawalError' that inherits from the built-in 'Exception' class. It includes attributes 'balance' and 'amount' to store information about the account balance and the withdrawal amount.\n",
    "\n",
    "* The Account class represents a bank account with a balance attribute and a withdraw() method to perform withdrawals. If the withdrawal amount exceeds the account balance, it raises a 'WithdrawalError'.\n",
    "\n",
    "* In the 'try' block, we create an 'Account' instance with an initial balance of 100 and attempt to withdraw 150. Since the withdrawal amount exceeds the balance, a 'WithdrawalError' is raised.\n",
    "\n",
    "* The 'except' block catches the 'WithdrawalError' exception and prints a message indicating that the withdrawal failed due to insufficient balance, along with the details of the error (balance and withdrawal amount).\n",
    "\n"
   ]
  },
  {
   "cell_type": "markdown",
   "id": "a48df6c4-f1d2-4686-8140-8f6f8c121455",
   "metadata": {},
   "source": [
    "ANSWER = 6"
   ]
  },
  {
   "cell_type": "markdown",
   "id": "94e393a3-ec94-4a4d-b4ae-3c2353ae4ad3",
   "metadata": {},
   "source": [
    " Let's create a custom exception class called 'InvalidAgeError' to handle the case where an invalid age is provided. We'll then use this custom exception to handle the situation where the age provided is negative."
   ]
  },
  {
   "cell_type": "code",
   "execution_count": 3,
   "id": "bfe29624-f4a9-4c9d-a49e-d5677baa9440",
   "metadata": {},
   "outputs": [
    {
     "name": "stdout",
     "output_type": "stream",
     "text": [
      "Error: Invalid age: -5\n"
     ]
    }
   ],
   "source": [
    "class InvalidAgeError(Exception):\n",
    "    \"\"\"Custom exception for handling invalid age.\"\"\"\n",
    "    def __init__(self, age):\n",
    "        self.age = age\n",
    "        super().__init__(f\"Invalid age: {age}\")\n",
    "\n",
    "def process_age(age):\n",
    "    \"\"\"Function to process age and raise custom exception if age is invalid.\"\"\"\n",
    "    if age < 0:\n",
    "        raise InvalidAgeError(age)\n",
    "    # Processing logic here\n",
    "\n",
    "# Example usage\n",
    "try:\n",
    "    age = -5\n",
    "    process_age(age)\n",
    "except InvalidAgeError as e:\n",
    "    print(f\"Error: {e}\")"
   ]
  },
  {
   "cell_type": "markdown",
   "id": "6bc0fe51-df8e-4d33-aa8a-b685e24fa5f1",
   "metadata": {},
   "source": [
    "In this example:\n",
    "\n",
    "* We define a custom exception class InvalidAgeError that inherits from the built-in Exception class. It includes an attribute age to store the invalid age value and provides a descriptive error message.\n",
    "\n",
    "* The process_age() function takes an age as input and performs some processing logic. If the age is negative, it raises an InvalidAgeError with the corresponding age value.\n",
    "\n",
    "* In the try block, we call the process_age() function with a negative age value -5. Since the age provided is invalid, it raises an InvalidAgeError.\n",
    "\n",
    "* The except block catches the InvalidAgeError exception and prints a message indicating the error along with the invalid age value."
   ]
  },
  {
   "cell_type": "markdown",
   "id": "fdc93774-ae33-4be5-a422-243e8d8e79c8",
   "metadata": {},
   "source": [
    "THANK YOU"
   ]
  },
  {
   "cell_type": "code",
   "execution_count": null,
   "id": "f7045017-24aa-4932-81c2-b1462ceb48f8",
   "metadata": {},
   "outputs": [],
   "source": []
  }
 ],
 "metadata": {
  "kernelspec": {
   "display_name": "Python 3 (ipykernel)",
   "language": "python",
   "name": "python3"
  },
  "language_info": {
   "codemirror_mode": {
    "name": "ipython",
    "version": 3
   },
   "file_extension": ".py",
   "mimetype": "text/x-python",
   "name": "python",
   "nbconvert_exporter": "python",
   "pygments_lexer": "ipython3",
   "version": "3.10.8"
  }
 },
 "nbformat": 4,
 "nbformat_minor": 5
}
